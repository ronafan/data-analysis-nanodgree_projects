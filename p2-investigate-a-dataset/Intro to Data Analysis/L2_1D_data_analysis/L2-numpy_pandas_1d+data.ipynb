{
 "cells": [
  {
   "cell_type": "markdown",
   "metadata": {},
   "source": [
    "# numpy and pandas for 1D data analysis \n",
    "\n",
    "## Dataset: \n",
    "\n",
    "Gapminder Data\n",
    "- Employment Levels \n",
    "- Life Expectancy \n",
    "- GDP\n",
    "- School completion rates\n",
    "\n",
    "Objective:  \n",
    "Know how to analyze 1D dataset by using pandas and Numpy\n",
    "\n",
    "Questions related to the csv files: \n",
    "- Is there a correlation between GDP and employment levels for a country? \n",
    "- Is there a correlation between school completion rate and employment levels for a country? \n",
    "- Is there a correlation between GDP and school completion rates for a country? \n",
    "- How has employment in the U.S. (and other countries) varied over time? \n",
    "- What are the highest and lowest employment levels? \n",
    "    - Which countries have have them? \n",
    "    - Where is the U.S. on the spectrum? \n",
    "- Is the correlation between variables consistant across countries? \n",
    "    \n",
    "\n"
   ]
  },
  {
   "cell_type": "code",
   "execution_count": null,
   "metadata": {
    "collapsed": true
   },
   "outputs": [],
   "source": []
  }
 ],
 "metadata": {
  "anaconda-cloud": {},
  "kernelspec": {
   "display_name": "Python [Root]",
   "language": "python",
   "name": "Python [Root]"
  },
  "language_info": {
   "codemirror_mode": {
    "name": "ipython",
    "version": 2
   },
   "file_extension": ".py",
   "mimetype": "text/x-python",
   "name": "python",
   "nbconvert_exporter": "python",
   "pygments_lexer": "ipython2",
   "version": "2.7.11"
  }
 },
 "nbformat": 4,
 "nbformat_minor": 0
}
